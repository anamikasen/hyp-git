{
 "cells": [
  {
   "cell_type": "code",
   "execution_count": 69,
   "metadata": {},
   "outputs": [],
   "source": [
    "import sys\n",
    "import json\n",
    "import pandas as pd\n",
    "import numpy as np\n",
    "from sklearn.utils import shuffle\n",
    "from Bio import SeqIO\n",
    "import json\n",
    "from sklearn.feature_extraction.text import CountVectorizer\n",
    "from toolz import partition_all\n",
    "from joblib import Parallel, delayed\n",
    "from nltk.corpus import stopwords\n",
    "import pickle\n",
    "from sklearn.metrics import classification_report\n",
    "from sklearn.feature_extraction import DictVectorizer\n",
    "from collections import Counter\n",
    "import glob\n",
    "from sklearn.utils import shuffle\n",
    "import sys\n",
    "from sklearn.decomposition import NMF, PCA\n",
    "from sklearn.preprocessing import StandardScaler\n",
    "import nltk\n",
    "from wordcloud import WordCloud, STOPWORDS, ImageColorGenerator\n",
    "import matplotlib\n",
    "import glob\n",
    "import time\n",
    "import string\n",
    "from nltk.corpus import stopwords\n",
    "stoplist = set(stopwords.words(\"english\"))\n",
    "from nltk.stem.wordnet import WordNetLemmatizer\n",
    "lmtzr = WordNetLemmatizer()\n",
    "from nltk import ngrams\n",
    "from nltk.classify import NaiveBayesClassifier\n"
   ]
  },
  {
   "cell_type": "code",
   "execution_count": 5,
   "metadata": {},
   "outputs": [],
   "source": [
    "def read_bin(binnum):\n",
    "    bindata = []\n",
    "    files = set(glob.glob('/home/anamikas/work/fungcat_threat/bin{}*'.format(binnum)))\n",
    "    files2ignore = set(glob.glob('/home/anamikas/work/fungcat_threat/bin{}*85*'.format(binnum)))\n",
    "    \n",
    "    expandedtruth = set(glob.glob(\"/home/anamikas/work/fungcat_threat/bin{}*Uniref*\".format(binnum)))\n",
    "    \n",
    "    ids = []\n",
    "    for fl in (files - files2ignore - expandedtruth):\n",
    "        with open(fl) as inf:\n",
    "            tmp = [json.loads(l) for l in inf]\n",
    "            bindata += tmp\n",
    "            ids += [_['_id'] for _ in tmp]\n",
    "                \n",
    "    binexpanded = []\n",
    "    ids = set(ids)\n",
    "    for fl in (expandedtruth - files2ignore):\n",
    "        with open(fl) as inf:\n",
    "            tmp = [json.loads(l) for l in inf]\n",
    "            onlyexpdocs = [_ for _ in tmp  if _['_id'] not in ids]\n",
    "            binexpanded += onlyexpdocs\n",
    " \n",
    "    return bindata, binexpanded"
   ]
  },
  {
   "cell_type": "code",
   "execution_count": 6,
   "metadata": {},
   "outputs": [],
   "source": [
    "def get_id(bindata, label):\n",
    "    return {doc['_id']: label for doc in bindata}"
   ]
  },
  {
   "cell_type": "code",
   "execution_count": 7,
   "metadata": {},
   "outputs": [],
   "source": [
    "bin1, bin1exp = read_bin(1)\n",
    "bin2, bin2exp = read_bin(2)\n",
    "bin3, bin3exp = read_bin(3)\n",
    "bin4, bin4exp = read_bin(4)\n",
    "with open(\"/home/anamikas/work/AllDocuments_9585_processed_sentences.pkl\", \"rb\") as inf:\n",
    "    docs = pickle.load(inf)"
   ]
  },
  {
   "cell_type": "code",
   "execution_count": 8,
   "metadata": {},
   "outputs": [
    {
     "data": {
      "text/plain": [
       "5632"
      ]
     },
     "execution_count": 8,
     "metadata": {},
     "output_type": "execute_result"
    }
   ],
   "source": [
    "len(bin1)+len(bin1exp)+len(bin2)+len(bin2exp)"
   ]
  },
  {
   "cell_type": "code",
   "execution_count": 9,
   "metadata": {},
   "outputs": [
    {
     "data": {
      "text/plain": [
       "4973"
      ]
     },
     "execution_count": 9,
     "metadata": {},
     "output_type": "execute_result"
    }
   ],
   "source": [
    "len(bin3)+len(bin3exp)+len(bin4)+len(bin4exp)"
   ]
  },
  {
   "cell_type": "code",
   "execution_count": 10,
   "metadata": {},
   "outputs": [],
   "source": [
    "expid2clf = get_id(bin1exp, 1)\n",
    "expid2clf.update(get_id(bin2exp, 2))\n",
    "expid2clf.update(get_id(bin3exp, 3))\n",
    "expid2clf.update(get_id(bin4exp, 4))\n",
    "\n",
    "\n",
    "id2clf = get_id(bin1, 1)\n",
    "id2clf.update(get_id(bin2, 2))\n",
    "id2clf.update(get_id(bin3, 3))\n",
    "id2clf.update(get_id(bin4, 4))\n"
   ]
  },
  {
   "cell_type": "code",
   "execution_count": 11,
   "metadata": {},
   "outputs": [],
   "source": [
    "alldocs = docs\n",
    "docs = [l for l in alldocs if l['id'] in id2clf]\n",
    "docs_exp = [l for l in alldocs if l['id'] in expid2clf and l['id'] not in id2clf]\n"
   ]
  },
  {
   "cell_type": "code",
   "execution_count": 13,
   "metadata": {},
   "outputs": [
    {
     "name": "stdout",
     "output_type": "stream",
     "text": [
      "10908 364 10408\n"
     ]
    }
   ],
   "source": [
    "print(len(alldocs), len(docs), len(docs_exp))"
   ]
  },
  {
   "cell_type": "code",
   "execution_count": 14,
   "metadata": {},
   "outputs": [
    {
     "data": {
      "text/plain": [
       "10605"
      ]
     },
     "execution_count": 14,
     "metadata": {},
     "output_type": "execute_result"
    }
   ],
   "source": [
    "5632+4973"
   ]
  },
  {
   "cell_type": "code",
   "execution_count": 37,
   "metadata": {},
   "outputs": [],
   "source": [
    "class_0 = []\n",
    "class_1 = []"
   ]
  },
  {
   "cell_type": "code",
   "execution_count": 38,
   "metadata": {},
   "outputs": [],
   "source": [
    "def addpubmedArticles(bin):\n",
    "    result = []\n",
    "    for items in bin:\n",
    "        if 'AB' in items['pubmed'][0].keys():\n",
    "            result.append(items)\n",
    "    return result"
   ]
  },
  {
   "cell_type": "code",
   "execution_count": 39,
   "metadata": {},
   "outputs": [],
   "source": [
    "class_0.extend(addpubmedArticles(bin1))\n",
    "class_0.extend(addpubmedArticles(bin1exp))\n",
    "class_0.extend(addpubmedArticles(bin2))\n",
    "class_0.extend(addpubmedArticles(bin2exp))\n",
    "class_1.extend(addpubmedArticles(bin3))\n",
    "class_1.extend(addpubmedArticles(bin3exp))\n",
    "class_1.extend(addpubmedArticles(bin4))\n",
    "class_1.extend(addpubmedArticles(bin4exp))"
   ]
  },
  {
   "cell_type": "code",
   "execution_count": 40,
   "metadata": {},
   "outputs": [
    {
     "name": "stdout",
     "output_type": "stream",
     "text": [
      "5587 4947\n"
     ]
    }
   ],
   "source": [
    "print(len(class_0), len(class_1))"
   ]
  },
  {
   "cell_type": "code",
   "execution_count": 45,
   "metadata": {},
   "outputs": [],
   "source": [
    "class_0_dict = {}\n",
    "class_1_dict = {}"
   ]
  },
  {
   "cell_type": "code",
   "execution_count": 46,
   "metadata": {},
   "outputs": [],
   "source": [
    "for i, items in enumerate(class_0):\n",
    "    class_0_dict[i] = items['pubmed'][0]['AB']"
   ]
  },
  {
   "cell_type": "code",
   "execution_count": 48,
   "metadata": {},
   "outputs": [],
   "source": [
    "for i, items in enumerate(class_1):\n",
    "    class_1_dict[i] = items['pubmed'][0]['AB']"
   ]
  },
  {
   "cell_type": "code",
   "execution_count": 56,
   "metadata": {},
   "outputs": [],
   "source": [
    "def create_ngram_features(words, n=2):\n",
    "    #strip useless end punctuations\n",
    "    useful_words = [word[:-1] for word in words.split(\" \") if word.endswith(\".\") or word.endswith(\";\") or word.endswith(\":\") or word.endswith(\",\")]\n",
    "    #string punctuations\n",
    "    useful_words = [word for word in useful_words if word not in string.punctuation]\n",
    "    #strip useless charaters\n",
    "    useful_words = [word.strip('\\n') for word in useful_words]\n",
    "    #remove stop words\n",
    "    useful_words = [word.lower() for word in useful_words if word not in stoplist]\n",
    "    #lemmatize\n",
    "    useful_words = [lmtzr.lemmatize(word) for word in useful_words]\n",
    "    words = \" \"\n",
    "    words = \" \".join(word for word in useful_words)\n",
    "    ngram_vocab = ngrams(useful_words, n)\n",
    "    my_dict = dict([(ng, True) for ng in ngram_vocab])\n",
    "    return my_dict"
   ]
  },
  {
   "cell_type": "code",
   "execution_count": 57,
   "metadata": {},
   "outputs": [],
   "source": [
    "def callRemoveExtra(greater, smaller):\n",
    "    extra = len(greater)-len(smaller)\n",
    "    while extra:\n",
    "        greater.pop()\n",
    "        extra -= 1\n",
    "    return greater"
   ]
  },
  {
   "cell_type": "code",
   "execution_count": 72,
   "metadata": {},
   "outputs": [
    {
     "name": "stdout",
     "output_type": "stream",
     "text": [
      "Creating  1  grams\n",
      "Training\n",
      "Time taken 0.5098719596862793\n",
      "Training done\n",
      "Testing for test dataset\n",
      "Time taken 0.17818117141723633\n",
      "1-gram accuracy for test: 0.5136501516683518\n",
      "Most Informative Features\n",
      "            ('carrier',) = True           class1 : class0 =    346.3 : 1.0\n",
      "             ('cohort',) = True           class1 : class0 =    147.0 : 1.0\n",
      "               ('load',) = True           class1 : class0 =    141.7 : 1.0\n",
      "       ('immunization',) = True           class1 : class0 =    107.0 : 1.0\n",
      "                ('pb1',) = True           class0 : class1 =    105.0 : 1.0\n",
      "            ('therapy',) = True           class1 : class0 =     87.0 : 1.0\n",
      "                 ('a1',) = True           class1 : class0 =     73.7 : 1.0\n",
      "             ('europe',) = True           class0 : class1 =     71.8 : 1.0\n",
      "           ('enrolled',) = True           class1 : class0 =     71.7 : 1.0\n",
      "                 ('b3',) = True           class1 : class0 =     65.7 : 1.0\n",
      "None\n",
      "Creating  2  grams\n",
      "Training\n",
      "Time taken 1.7290010452270508\n",
      "Training done\n",
      "Testing for test dataset\n",
      "Time taken 0.17516732215881348\n",
      "2-gram accuracy for test: 0.6213346814964611\n",
      "Most Informative Features\n",
      "('combination', 'combination') = True           class1 : class0 =    105.0 : 1.0\n",
      "('sequencing', 'analysis') = True           class1 : class0 =    105.0 : 1.0\n",
      "     ('virus', 'origin') = True           class0 : class1 =     93.7 : 1.0\n",
      "('sequence', 'mutation') = True           class1 : class0 =     60.3 : 1.0\n",
      "  ('allele', 'genotype') = True           class0 : class1 =     51.8 : 1.0\n",
      "  ('pandemic', 'health') = True           class0 : class1 =     51.8 : 1.0\n",
      "      ('aivs', 'genome') = True           class0 : class1 =     51.8 : 1.0\n",
      "   ('available', 'aivs') = True           class0 : class1 =     51.8 : 1.0\n",
      " ('health', 'available') = True           class0 : class1 =     51.8 : 1.0\n",
      "('mutation', 'determinant') = True           class0 : class1 =     51.8 : 1.0\n",
      "None\n",
      "Creating  3  grams\n"
     ]
    },
    {
     "name": "stderr",
     "output_type": "stream",
     "text": [
      "/home/anamikas/anaconda3/envs/hyp/lib/python3.6/site-packages/ipykernel_launcher.py:15: DeprecationWarning: generator 'ngrams' raised StopIteration\n",
      "  from ipykernel import kernelapp as app\n"
     ]
    },
    {
     "name": "stdout",
     "output_type": "stream",
     "text": [
      "Training\n",
      "Time taken 1.0370795726776123\n",
      "Training done\n",
      "Testing for test dataset\n",
      "Time taken 0.16681361198425293\n",
      "3-gram accuracy for test: 0.6137512639029322\n",
      "Most Informative Features\n",
      "('aivs', 'genome', 'allele') = True           class0 : class1 =     51.8 : 1.0\n",
      "('health', 'available', 'aivs') = True           class0 : class1 =     51.8 : 1.0\n",
      "('pandemic', 'health', 'available') = True           class0 : class1 =     51.8 : 1.0\n",
      "('genotype', 'mutation', 'determinant') = True           class0 : class1 =     51.8 : 1.0\n",
      "('allele', 'genotype', 'mutation') = True           class0 : class1 =     51.8 : 1.0\n",
      "('available', 'aivs', 'genome') = True           class0 : class1 =     51.8 : 1.0\n",
      "('genome', 'allele', 'genotype') = True           class0 : class1 =     51.8 : 1.0\n",
      "('infection', 'however', 'characterized') = True           class1 : class0 =     17.7 : 1.0\n",
      "('however', 'unclear', 'study') = True           class1 : class0 =     13.0 : 1.0\n",
      "('gene', 'however', 'lineage') = True           class0 : class1 =     13.0 : 1.0\n",
      "None\n",
      "Creating  4  grams\n",
      "Training\n",
      "Time taken 1.7501487731933594\n",
      "Training done\n",
      "Testing for test dataset\n",
      "Time taken 0.1628103256225586\n",
      "4-gram accuracy for test: 0.6102123356926188\n",
      "Most Informative Features\n",
      "('genome', 'allele', 'genotype', 'mutation') = True           class0 : class1 =     51.8 : 1.0\n",
      "('pandemic', 'health', 'available', 'aivs') = True           class0 : class1 =     51.8 : 1.0\n",
      "('available', 'aivs', 'genome', 'allele') = True           class0 : class1 =     51.8 : 1.0\n",
      "('health', 'available', 'aivs', 'genome') = True           class0 : class1 =     51.8 : 1.0\n",
      "('allele', 'genotype', 'mutation', 'determinant') = True           class0 : class1 =     51.8 : 1.0\n",
      "('aivs', 'genome', 'allele', 'genotype') = True           class0 : class1 =     51.8 : 1.0\n",
      "('virus', 'variant', 'china', 'importance') = True           class0 : class1 =     12.7 : 1.0\n",
      "('isolate', 'infection', 'recently', 'reassorted') = True           class0 : class1 =     12.7 : 1.0\n",
      "('region', 'lake', 'bird', '2013') = True           class0 : class1 =     12.7 : 1.0\n",
      "('reported', 'china', 'lake', 'asia') = True           class0 : class1 =     12.7 : 1.0\n",
      "None\n",
      "Creating  5  grams\n",
      "Training\n",
      "Time taken 0.9464244842529297\n",
      "Training done\n",
      "Testing for test dataset\n",
      "Time taken 0.15749859809875488\n",
      "5-gram accuracy for test: 0.6066734074823054\n",
      "Most Informative Features\n",
      "('available', 'aivs', 'genome', 'allele', 'genotype') = True           class0 : class1 =     51.8 : 1.0\n",
      "('health', 'available', 'aivs', 'genome', 'allele') = True           class0 : class1 =     51.8 : 1.0\n",
      "('genome', 'allele', 'genotype', 'mutation', 'determinant') = True           class0 : class1 =     51.8 : 1.0\n",
      "('aivs', 'genome', 'allele', 'genotype', 'mutation') = True           class0 : class1 =     51.8 : 1.0\n",
      "('pandemic', 'health', 'available', 'aivs', 'genome') = True           class0 : class1 =     51.8 : 1.0\n",
      "('china', 'reported', 'china', 'lake', 'asia') = True           class0 : class1 =     12.7 : 1.0\n",
      "('reported', 'china', 'lake', 'asia', 'virus') = True           class0 : class1 =     12.7 : 1.0\n",
      "('china', 'lake', 'asia', 'virus', 'market') = True           class0 : class1 =     12.7 : 1.0\n",
      "('outbreak', 'virus', 'isolate', 'infection', 'recently') = True           class0 : class1 =     12.7 : 1.0\n",
      "('isolate', 'infection', 'recently', 'reassorted', 'virus') = True           class0 : class1 =     12.7 : 1.0\n",
      "None\n",
      "Creating  6  grams\n",
      "Training\n",
      "Time taken 1.661072015762329\n",
      "Training done\n",
      "Testing for test dataset\n",
      "Time taken 0.15295672416687012\n",
      "6-gram accuracy for test: 0.6046511627906976\n",
      "Most Informative Features\n",
      "('available', 'aivs', 'genome', 'allele', 'genotype', 'mutation') = True           class0 : class1 =     51.8 : 1.0\n",
      "('aivs', 'genome', 'allele', 'genotype', 'mutation', 'determinant') = True           class0 : class1 =     51.8 : 1.0\n",
      "('pandemic', 'health', 'available', 'aivs', 'genome', 'allele') = True           class0 : class1 =     51.8 : 1.0\n",
      "('health', 'available', 'aivs', 'genome', 'allele', 'genotype') = True           class0 : class1 =     51.8 : 1.0\n",
      "('china', 'importance', 'china', 'reported', 'china', 'lake') = True           class0 : class1 =     12.7 : 1.0\n",
      "('virus', 'variant', 'china', 'importance', 'china', 'reported') = True           class0 : class1 =     12.7 : 1.0\n",
      "('recently', 'reassorted', 'virus', 'variant', 'china', 'importance') = True           class0 : class1 =     12.7 : 1.0\n",
      "('china', 'origin', 'prevalence', 'region', 'lake', 'bird') = True           class0 : class1 =     12.7 : 1.0\n",
      "('origin', 'prevalence', 'region', 'lake', 'bird', '2013') = True           class0 : class1 =     12.7 : 1.0\n",
      "('importance', 'china', 'reported', 'china', 'lake', 'asia') = True           class0 : class1 =     12.7 : 1.0\n",
      "None\n",
      "Creating  7  grams\n",
      "Training\n",
      "Time taken 0.8434619903564453\n",
      "Training done\n",
      "Testing for test dataset\n",
      "Time taken 0.14783859252929688\n",
      "7-gram accuracy for test: 0.60262891809909\n",
      "Most Informative Features\n",
      "('available', 'aivs', 'genome', 'allele', 'genotype', 'mutation', 'determinant') = True           class0 : class1 =     51.8 : 1.0\n",
      "('health', 'available', 'aivs', 'genome', 'allele', 'genotype', 'mutation') = True           class0 : class1 =     51.8 : 1.0\n",
      "('pandemic', 'health', 'available', 'aivs', 'genome', 'allele', 'genotype') = True           class0 : class1 =     51.8 : 1.0\n",
      "('bird', '2013', 'jiangxi', 'market', 'outbreak', 'virus', 'isolate') = True           class0 : class1 =     12.7 : 1.0\n",
      "('virus', 'variant', 'china', 'importance', 'china', 'reported', 'china') = True           class0 : class1 =     12.7 : 1.0\n",
      "('outbreak', 'virus', 'isolate', 'infection', 'recently', 'reassorted', 'virus') = True           class0 : class1 =     12.7 : 1.0\n",
      "('reassorted', 'virus', 'variant', 'china', 'importance', 'china', 'reported') = True           class0 : class1 =     12.7 : 1.0\n",
      "('virus', 'isolate', 'infection', 'recently', 'reassorted', 'virus', 'variant') = True           class0 : class1 =     12.7 : 1.0\n",
      "('variant', 'china', 'importance', 'china', 'reported', 'china', 'lake') = True           class0 : class1 =     12.7 : 1.0\n",
      "('prevalence', 'region', 'lake', 'bird', '2013', 'jiangxi', 'market') = True           class0 : class1 =     12.7 : 1.0\n",
      "None\n",
      "Creating  8  grams\n",
      "Training\n",
      "Time taken 0.7962062358856201\n",
      "Training done\n",
      "Testing for test dataset\n",
      "Time taken 0.14327502250671387\n",
      "8-gram accuracy for test: 0.5980788675429727\n",
      "Most Informative Features\n",
      "('health', 'available', 'aivs', 'genome', 'allele', 'genotype', 'mutation', 'determinant') = True           class0 : class1 =     51.8 : 1.0\n",
      "('pandemic', 'health', 'available', 'aivs', 'genome', 'allele', 'genotype', 'mutation') = True           class0 : class1 =     51.8 : 1.0\n",
      "('importance', 'china', 'reported', 'china', 'lake', 'asia', 'virus', 'market') = True           class0 : class1 =     12.7 : 1.0\n",
      "('lake', 'bird', '2013', 'jiangxi', 'market', 'outbreak', 'virus', 'isolate') = True           class0 : class1 =     12.7 : 1.0\n",
      "('2013', 'jiangxi', 'market', 'outbreak', 'virus', 'isolate', 'infection', 'recently') = True           class0 : class1 =     12.7 : 1.0\n",
      "('origin', 'prevalence', 'region', 'lake', 'bird', '2013', 'jiangxi', 'market') = True           class0 : class1 =     12.7 : 1.0\n",
      "('region', 'lake', 'bird', '2013', 'jiangxi', 'market', 'outbreak', 'virus') = True           class0 : class1 =     12.7 : 1.0\n",
      "('recently', 'reassorted', 'virus', 'variant', 'china', 'importance', 'china', 'reported') = True           class0 : class1 =     12.7 : 1.0\n",
      "('jiangxi', 'china', 'origin', 'prevalence', 'region', 'lake', 'bird', '2013') = True           class0 : class1 =     12.7 : 1.0\n",
      "('infection', 'recently', 'reassorted', 'virus', 'variant', 'china', 'importance', 'china') = True           class0 : class1 =     12.7 : 1.0\n",
      "None\n",
      "Creating  9  grams\n",
      "Training\n",
      "Time taken 1.505115032196045\n",
      "Training done\n",
      "Testing for test dataset\n",
      "Time taken 0.1357102394104004\n",
      "9-gram accuracy for test: 0.5910010111223458\n",
      "Most Informative Features\n",
      "('pandemic', 'health', 'available', 'aivs', 'genome', 'allele', 'genotype', 'mutation', 'determinant') = True           class0 : class1 =     51.8 : 1.0\n",
      "('china', 'importance', 'china', 'reported', 'china', 'lake', 'asia', 'virus', 'market') = True           class0 : class1 =     12.7 : 1.0\n",
      "('region', 'lake', 'bird', '2013', 'jiangxi', 'market', 'outbreak', 'virus', 'isolate') = True           class0 : class1 =     12.7 : 1.0\n",
      "('bird', '2013', 'jiangxi', 'market', 'outbreak', 'virus', 'isolate', 'infection', 'recently') = True           class0 : class1 =     12.7 : 1.0\n",
      "('infection', 'recently', 'reassorted', 'virus', 'variant', 'china', 'importance', 'china', 'reported') = True           class0 : class1 =     12.7 : 1.0\n",
      "('jiangxi', 'china', 'origin', 'prevalence', 'region', 'lake', 'bird', '2013', 'jiangxi') = True           class0 : class1 =     12.7 : 1.0\n",
      "('reported', 'china', 'lake', 'asia', 'virus', 'market', 'virus', 'virus', 'health') = True           class0 : class1 =     12.7 : 1.0\n",
      "('2013', 'jiangxi', 'market', 'outbreak', 'virus', 'isolate', 'infection', 'recently', 'reassorted') = True           class0 : class1 =     12.7 : 1.0\n",
      "('market', 'outbreak', 'virus', 'isolate', 'infection', 'recently', 'reassorted', 'virus', 'variant') = True           class0 : class1 =     12.7 : 1.0\n",
      "('reassorted', 'virus', 'variant', 'china', 'importance', 'china', 'reported', 'china', 'lake') = True           class0 : class1 =     12.7 : 1.0\n",
      "None\n",
      "Creating  10  grams\n"
     ]
    },
    {
     "name": "stdout",
     "output_type": "stream",
     "text": [
      "Training\n",
      "Time taken 0.686384916305542\n",
      "Training done\n",
      "Testing for test dataset\n",
      "Time taken 0.12965631484985352\n",
      "10-gram accuracy for test: 0.5712841253791708\n",
      "Most Informative Features\n",
      "('bird', '2013', 'jiangxi', 'market', 'outbreak', 'virus', 'isolate', 'infection', 'recently', 'reassorted') = True           class0 : class1 =     12.7 : 1.0\n",
      "('2013', 'jiangxi', 'market', 'outbreak', 'virus', 'isolate', 'infection', 'recently', 'reassorted', 'virus') = True           class0 : class1 =     12.7 : 1.0\n",
      "('virus', 'variant', 'china', 'importance', 'china', 'reported', 'china', 'lake', 'asia', 'virus') = True           class0 : class1 =     12.7 : 1.0\n",
      "('variant', 'china', 'importance', 'china', 'reported', 'china', 'lake', 'asia', 'virus', 'market') = True           class0 : class1 =     12.7 : 1.0\n",
      "('market', 'outbreak', 'virus', 'isolate', 'infection', 'recently', 'reassorted', 'virus', 'variant', 'china') = True           class0 : class1 =     12.7 : 1.0\n",
      "('china', 'reported', 'china', 'lake', 'asia', 'virus', 'market', 'virus', 'virus', 'health') = True           class0 : class1 =     12.7 : 1.0\n",
      "('jiangxi', 'china', 'origin', 'prevalence', 'region', 'lake', 'bird', '2013', 'jiangxi', 'market') = True           class0 : class1 =     12.7 : 1.0\n",
      "('china', 'origin', 'prevalence', 'region', 'lake', 'bird', '2013', 'jiangxi', 'market', 'outbreak') = True           class0 : class1 =     12.7 : 1.0\n",
      "('importance', 'china', 'reported', 'china', 'lake', 'asia', 'virus', 'market', 'virus', 'virus') = True           class0 : class1 =     12.7 : 1.0\n",
      "('infection', 'recently', 'reassorted', 'virus', 'variant', 'china', 'importance', 'china', 'reported', 'china') = True           class0 : class1 =     12.7 : 1.0\n",
      "None\n",
      "46.59143400192261\n",
      "Total time taken\n"
     ]
    }
   ],
   "source": [
    "start_0 = time.time()\n",
    "for n in [1, 2, 3, 4, 5, 6, 7, 8, 9, 10]:\n",
    "    \n",
    "    print(\"Creating \", str(n), \" grams\")\n",
    "    \n",
    "    class0_data = []\n",
    "    for key, text in class_0_dict.items():\n",
    "        class0_data.append((create_ngram_features(text, n), \"class0\"))    \n",
    "\n",
    "    class1_data = []\n",
    "    for key, text in class_1_dict.items():\n",
    "        class1_data.append((create_ngram_features(text, n), \"class1\"))    \n",
    "    \n",
    "    shuffle(class0_data)\n",
    "    shuffle(class1_data)\n",
    "    \n",
    "    if len(class0_data)>len(class1_data):\n",
    "        class0_data = callRemoveExtra(class0_data, class1_data)\n",
    "    else:\n",
    "        class1_data = callRemoveExtra(class1_data, class0_data)\n",
    "        \n",
    "    limit = round(0.8*len(class0_data))\n",
    "    \n",
    "    train_set = class0_data[:limit] + class1_data[:limit]\n",
    "    test_set =  class0_data[limit:] + class1_data[limit:]\n",
    "    \n",
    "    print(\"Training\")\n",
    "    \n",
    "    start = time.time()\n",
    "    classifier = NaiveBayesClassifier.train(train_set)\n",
    "    end = time.time()\n",
    "    print(\"Time taken\", end-start)\n",
    "    \n",
    "    print(\"Training done\")\n",
    "    \n",
    "    print(\"Testing for test dataset\")\n",
    "    \n",
    "    start = time.time()\n",
    "    accuracy = nltk.classify.util.accuracy(classifier, test_set)\n",
    "    end = time.time()\n",
    "    print(\"Time taken\", end-start)\n",
    "    \n",
    "    print(str(n)+'-gram accuracy for test:', accuracy)\n",
    "    \n",
    "    print(classifier.show_most_informative_features(10))\n",
    "    \n",
    "end_0 = time.time()\n",
    "print(end_0-start_0)\n",
    "print(\"Total time taken\")"
   ]
  },
  {
   "cell_type": "markdown",
   "metadata": {},
   "source": [
    "Plot the frequencies"
   ]
  },
  {
   "cell_type": "code",
   "execution_count": 73,
   "metadata": {},
   "outputs": [],
   "source": [
    "doc_0 = \"\"\n",
    "for items in class_0:\n",
    "    doc_0 +=  items['pubmed'][0]['AB']"
   ]
  },
  {
   "cell_type": "code",
   "execution_count": 74,
   "metadata": {},
   "outputs": [],
   "source": [
    "doc_1 = \"\"\n",
    "for items in class_1:\n",
    "    doc_1 +=  items['pubmed'][0]['AB']"
   ]
  },
  {
   "cell_type": "code",
   "execution_count": 78,
   "metadata": {
    "scrolled": true
   },
   "outputs": [
    {
     "name": "stdout",
     "output_type": "stream",
     "text": [
      "[('virus', 29263), ('influenza', 13432), ('gene', 9410), ('human', 7628), ('swine', 5004), ('avian', 4731), ('analysis', 4657), ('isolated', 4024), ('h5n1', 3768), ('sequence', 3683), ('isolates', 3582), ('poultry', 3577), ('strain', 3425), ('genetic', 3201), ('duck', 3158), ('lineage', 2911), ('genotype', 2910), ('surveillance', 2889), ('study', 2871), ('china', 2870), ('genome', 2812), ('infection', 2620), ('phylogenetic', 2583), ('different', 2560), ('h9n2', 2560), ('two', 2534), ('domestic', 2522), ('pandemic', 2428), ('showed', 2336), ('bird', 2322), ('chicken', 2285), ('reassortment', 2217), ('may', 2178), ('segment', 2124), ('viral', 1963), ('emergence', 1931), ('southern', 1926), ('north', 1903), ('transmission', 1889), ('host', 1887), ('revealed', 1877), ('also', 1862), ('outbreak', 1853), ('novel', 1848), ('h7n9', 1810), ('new', 1782), ('result', 1765), ('h1n1', 1754), ('acid', 1743), ('potential', 1737), ('multiple', 1721), ('region', 1652), ('aiv', 1649), ('wild', 1641), ('reassortant', 1637), ('data', 1633), ('pathogenic', 1628), ('however,', 1627), ('viruses.', 1623), ('population', 1611), ('highly', 1606), ('internal', 1596), ('evolution', 1578), ('amino', 1567), ('first', 1565), ('circulating', 1552), ('viruses,', 1532), ('found', 1522), ('among', 1518), ('subtype', 1515), ('european', 1489), ('h3n2', 1487), ('detected', 1443), ('pig', 1418), ('related', 1404), ('clade', 1392), ('antigenic', 1388), ('one', 1376), ('evolutionary', 1371), ('similar', 1369), ('np', 1345), ('2009', 1343), ('diversity', 1322), ('mutation', 1317), ('could', 1310), ('spread', 1308), ('h6', 1268), ('group', 1260), ('including', 1241), ('identified', 1225), ('high', 1224), ('migratory', 1216), ('distinct', 1213), ('since', 1208), ('change', 1191), ('genomic', 1184), ('observed', 1183), ('market', 1176), ('protein', 1172), ('three', 1159)]\n"
     ]
    }
   ],
   "source": [
    "#stopwords removal\n",
    "filtered_doc0 = [word.lower() for word in doc_0.split(\" \") if word.lower() not in stopwords.words(\"english\")]\n",
    "filtered_doc0_stop = filtered_doc0\n",
    "filtered_doc0 = []\n",
    "filtered_doc0 = [lmtzr.lemmatize(word) for word in filtered_doc0_stop]\n",
    "fdist0 = nltk.FreqDist(filtered_doc0)\n",
    "#Get 50 Most Common Words\n",
    "print (fdist0.most_common(100))"
   ]
  },
  {
   "cell_type": "code",
   "execution_count": 80,
   "metadata": {},
   "outputs": [
    {
     "data": {
      "image/png": "[encoded data removed]",
      "text/plain": [
       "<Figure size 432x288 with 1 Axes>"
      ]
     },
     "metadata": {
      "needs_background": "light"
     },
     "output_type": "display_data"
    }
   ],
   "source": [
    "fdist0.plot(50, cumulative=False)"
   ]
  },
  {
   "cell_type": "code",
   "execution_count": 81,
   "metadata": {},
   "outputs": [
    {
     "name": "stdout",
     "output_type": "stream",
     "text": [
      "[('hbv', 12625), ('virus', 11170), ('genotype', 8509), ('mutation', 8240), ('b', 7472), ('hepatitis', 6517), ('patient', 6462), ('sequence', 4460), ('chronic', 4366), ('analysis', 4296), ('strain', 4235), ('gene', 4040), ('isolates', 3510), ('infection', 3482), ('genome', 3480), ('viral', 3207), ('study', 2871), ('aclf', 2730), ('region', 2713), ('associated', 2524), ('h9n2', 2517), ('among', 2459), ('human', 2427), ('different', 2400), ('showed', 2398), ('influenza', 2380), ('found', 2286), ('sequencing', 2225), ('(hbv)', 2181), ('two', 2019), ('significantly', 1988), ('higher', 1974), ('dna', 1965), ('genetic', 1965), ('core', 1870), ('novel', 1834), ('lineage', 1799), ('may', 1775), ('h7n9', 1739), ('c', 1698), ('case', 1641), ('poultry', 1613), ('deletion', 1589), ('including', 1580), ('phylogenetic', 1537), ('identified', 1527), ('disease', 1496), ('result', 1496), ('complete', 1483), ('nucleotide', 1478), ('liver', 1469), ('risk', 1466), ('china', 1461), ('also', 1441), ('type', 1428), ('=', 1428), ('high', 1398), ('subgenotype', 1367), ('sample', 1362), ('within', 1337), ('population', 1333), ('genomic', 1322), ('three', 1304), ('detected', 1293), ('diversity', 1258), ('one', 1256), ('prevalence', 1248), ('new', 1224), ('infected', 1217), ('rate', 1208), ('mutant', 1201), ('transmission', 1187), ('revealed', 1181), ('12', 1171), ('clinical', 1160), ('surface', 1155), ('using', 1149), ('acid', 1147), ('serum', 1140), ('patients,', 1120), ('outbreak', 1117), ('factor', 1115), ('isolated', 1112), ('level', 1110), ('aclf.', 1101), ('chicken', 1098), ('hbsag', 1095), ('amino', 1082), ('acute', 1064), ('however,', 1060), ('substitution', 1060), ('variant', 1060), ('presence', 1056), ('monocytogenes', 1031), ('could', 1030), ('evolutionary', 1029), ('positive', 1017), ('results:', 1010), ('hbeag', 1007), ('antigen', 998)]\n"
     ]
    }
   ],
   "source": [
    "#stopwords removal\n",
    "filtered_doc1 = [word.lower() for word in doc_1.split(\" \") if word.lower() not in stopwords.words(\"english\")]\n",
    "filtered_doc1_stop = filtered_doc1\n",
    "filtered_doc1 = []\n",
    "filtered_doc1 = [lmtzr.lemmatize(word) for word in filtered_doc1_stop]\n",
    "fdist1 = nltk.FreqDist(filtered_doc1)\n",
    "#Get 50 Most Common Words\n",
    "print (fdist1.most_common(100))"
   ]
  },
  {
   "cell_type": "code",
   "execution_count": 82,
   "metadata": {},
   "outputs": [
    {
     "data": {
      "image/png": "[encoded data removed]",
      "text/plain": [
       "<Figure size 432x288 with 1 Axes>"
      ]
     },
     "metadata": {
      "needs_background": "light"
     },
     "output_type": "display_data"
    }
   ],
   "source": [
    "fdist1.plot(50, cumulative=False)"
   ]
  },
  {
   "cell_type": "code",
   "execution_count": 85,
   "metadata": {},
   "outputs": [],
   "source": [
    "all_0 = set([])\n",
    "all_1 = set([])\n",
    "for items in fdist0.most_common(50):\n",
    "    all_0.add(items[0])"
   ]
  },
  {
   "cell_type": "code",
   "execution_count": 88,
   "metadata": {},
   "outputs": [],
   "source": [
    "for items in fdist1.most_common(50):\n",
    "    all_1.add(items[0])"
   ]
  },
  {
   "cell_type": "code",
   "execution_count": 89,
   "metadata": {},
   "outputs": [
    {
     "name": "stdout",
     "output_type": "stream",
     "text": [
      "{'sequence', 'novel', 'h9n2', 'gene', 'infection', 'genome', 'may', 'genotype', 'phylogenetic', 'different', 'study', 'lineage', 'showed', 'strain', 'poultry', 'two', 'viral', 'human', 'influenza', 'h7n9', 'virus', 'genetic', 'result', 'analysis', 'isolates'}\n"
     ]
    }
   ],
   "source": [
    "print(all_0.intersection(all_1))"
   ]
  },
  {
   "cell_type": "code",
   "execution_count": 90,
   "metadata": {},
   "outputs": [
    {
     "name": "stdout",
     "output_type": "stream",
     "text": [
      "25\n"
     ]
    }
   ],
   "source": [
    "print(len(all_0.intersection(all_1)))"
   ]
  },
  {
   "cell_type": "code",
   "execution_count": 100,
   "metadata": {},
   "outputs": [],
   "source": [
    "fdist_0 = fdist0"
   ]
  },
  {
   "cell_type": "code",
   "execution_count": 104,
   "metadata": {},
   "outputs": [],
   "source": [
    "fdist_0 = []\n",
    "for item in fdist0.items():\n",
    "    fdist_0.append(item)"
   ]
  },
  {
   "cell_type": "code",
   "execution_count": 117,
   "metadata": {},
   "outputs": [],
   "source": [
    "sorted_fdist_0 = sorted(fdist_0, key=lambda x: x[1], reverse=True)"
   ]
  },
  {
   "cell_type": "code",
   "execution_count": 112,
   "metadata": {},
   "outputs": [],
   "source": [
    "fdist_1 = []\n",
    "for item in fdist1.items():\n",
    "    fdist_1.append(item)"
   ]
  },
  {
   "cell_type": "code",
   "execution_count": 118,
   "metadata": {},
   "outputs": [],
   "source": [
    "sorted_fdist_1 = sorted(fdist_1, key=lambda x: x[1], reverse=True)"
   ]
  },
  {
   "cell_type": "code",
   "execution_count": 126,
   "metadata": {},
   "outputs": [
    {
     "data": {
      "text/plain": [
       "1938"
      ]
     },
     "execution_count": 126,
     "metadata": {},
     "output_type": "execute_result"
    }
   ],
   "source": [
    "len(sorted_fdist_1[-(round(0.1*len(sorted_fdist_1))):])"
   ]
  },
  {
   "cell_type": "code",
   "execution_count": null,
   "metadata": {},
   "outputs": [],
   "source": []
  },
  {
   "cell_type": "code",
   "execution_count": null,
   "metadata": {},
   "outputs": [],
   "source": []
  },
  {
   "cell_type": "code",
   "execution_count": null,
   "metadata": {},
   "outputs": [],
   "source": []
  }
 ],
 "metadata": {
  "kernelspec": {
   "display_name": "Python 3",
   "language": "python",
   "name": "python3"
  },
  "language_info": {
   "codemirror_mode": {
    "name": "ipython",
    "version": 3
   },
   "file_extension": ".py",
   "mimetype": "text/x-python",
   "name": "python",
   "nbconvert_exporter": "python",
   "pygments_lexer": "ipython3",
   "version": "3.6.7"
  }
 },
 "nbformat": 4,
 "nbformat_minor": 2
}
